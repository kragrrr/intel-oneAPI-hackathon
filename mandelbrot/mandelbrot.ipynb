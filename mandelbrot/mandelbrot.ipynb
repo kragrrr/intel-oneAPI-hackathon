{
 "cells": [
  {
   "cell_type": "markdown",
   "metadata": {},
   "source": [
    "## Mandelbrot Demo\n",
    "#### Using DPC++, you can execute the same code across Intel CPU’s and GPUs"
   ]
  },
  {
   "cell_type": "markdown",
   "metadata": {},
   "source": [
    "Choose either a GPU or CPU to execute the mandelbrot code."
   ]
  },
  {
   "cell_type": "markdown",
   "metadata": {},
   "source": [
    "#### Device Selector\n",
    "Select the following cell and click __Run__ ▶ to choose the offload device:"
   ]
  },
  {
   "cell_type": "code",
   "execution_count": 5,
   "metadata": {},
   "outputs": [
    {
     "data": {
      "application/vnd.jupyter.widget-view+json": {
       "model_id": "40064c7934134a0eaf3e854f135169f8",
       "version_major": 2,
       "version_minor": 0
      },
      "text/plain": [
       "RadioButtons(description='Device:', options=('GPU Gen9', 'GPU Iris XE Max', 'CPU Xeon 6128', 'CPU Xeon 8153', …"
      ]
     },
     "metadata": {},
     "output_type": "display_data"
    }
   ],
   "source": [
    "%run accelerator.py"
   ]
  },
  {
   "cell_type": "markdown",
   "metadata": {},
   "source": [
    "### Build and Run\n",
    "Select the following cell and click __Run__ ▶ to write the file:"
   ]
  },
  {
   "cell_type": "code",
   "execution_count": 6,
   "metadata": {},
   "outputs": [
    {
     "name": "stdout",
     "output_type": "stream",
     "text": [
      "Overwriting src/main.cpp\n"
     ]
    }
   ],
   "source": [
    "%%writefile src/main.cpp \n",
    "\n",
    "//==============================================================\n",
    "// Copyright © 2019 Intel Corporation\n",
    "//\n",
    "// SPDX-License-Identifier: MIT\n",
    "// =============================================================\n",
    "\n",
    "#include <chrono>\n",
    "#include <iomanip>\n",
    "#include <iostream>\n",
    "#include <CL/sycl.hpp>\n",
    "\n",
    "#include \"dpc_common.hpp\"\n",
    "#include \"mandel.hpp\"\n",
    "\n",
    "using namespace std;\n",
    "using namespace cl::sycl;\n",
    "\n",
    "void ShowDevice(queue &q) {\n",
    "  // Output platform and device information.\n",
    "  auto device = q.get_device();\n",
    "  auto p_name = device.get_platform().get_info<info::platform::name>();\n",
    "  cout << std::setw(20) << \"Platform Name: \" << p_name << \"\\n\";\n",
    "  auto p_version = device.get_platform().get_info<info::platform::version>();\n",
    "  cout << std::setw(20) << \"Platform Version: \" << p_version << \"\\n\"; \n",
    "  auto d_name = device.get_info<info::device::name>();\n",
    "  cout << std::setw(20) << \"Device Name: \" << d_name << \"\\n\";\n",
    "  auto max_work_group = device.get_info<info::device::max_work_group_size>();\n",
    "  cout << std::setw(20) << \"Max Work Group: \" << max_work_group << \"\\n\";\n",
    "  auto max_compute_units = device.get_info<info::device::max_compute_units>();\n",
    "  cout << std::setw(20) << \"Max Compute Units: \" << max_compute_units << \"\\n\";\n",
    "}\n",
    "\n",
    "void Execute(queue &q) {\n",
    "  // Demonstrate the Mandelbrot calculation serial and parallel\n",
    "  MandelParallel m_par(row_size, col_size, max_iterations);\n",
    "  MandelSerial m_ser(row_size, col_size, max_iterations);\n",
    "\n",
    "  // Run the code once to trigger JIT\n",
    "  m_par.Evaluate(q);\n",
    "\n",
    "  // Run the parallel version\n",
    "  dpc_common::MyTimer t_par;\n",
    "  // time the parallel computation\n",
    "  for (int i = 0; i < repetitions; ++i) \n",
    "    m_par.Evaluate(q);\n",
    "  dpc_common::Duration parallel_time = t_par.elapsed();\n",
    "\n",
    "  // Print the results\n",
    "  m_par.Print();\n",
    "  m_par.writeImage();\n",
    "  // Run the serial version\n",
    "  dpc_common::MyTimer t_ser;\n",
    "  m_ser.Evaluate();\n",
    "  dpc_common::Duration serial_time = t_ser.elapsed();\n",
    "\n",
    "  // Report the results\n",
    "  cout << std::setw(20) << \"serial time: \" << serial_time.count() << \"s\\n\";\n",
    "  cout << std::setw(20) << \"parallel time: \" << (parallel_time / repetitions).count() << \"s\\n\";\n",
    "\n",
    "  // Validating\n",
    "  m_par.Verify(m_ser);\n",
    "}\n",
    "\n",
    "void Usage(string program_name) {\n",
    "  // Utility function to display argument usage\n",
    "  cout << \" Incorrect parameters\\n\";\n",
    "  cout << \" Usage: \";\n",
    "  cout << program_name << \"\\n\\n\";\n",
    "  exit(-1);\n",
    "}\n",
    "\n",
    "int main(int argc, char *argv[]) {\n",
    "  if (argc != 1) {\n",
    "    Usage(argv[0]);\n",
    "  }\n",
    "\n",
    "  try {\n",
    "\n",
    "    // Create a queue using default device\n",
    "    // Set the SYCL_DEVICE_FILTER, we are using PI_OPENCL environment variable\n",
    "      \n",
    "    // Default queue, set accelerator choice above.\n",
    "    queue q (default_selector{},dpc_common::exception_handler);\n",
    "    // Display the device info\n",
    "    ShowDevice(q);\n",
    "    // launch the body of the application\n",
    "    Execute(q);\n",
    "  } catch (...) {\n",
    "    // some other exception detected\n",
    "    cout << \"Failure\\n\";\n",
    "    terminate();\n",
    "  }\n",
    "  cout << \"Success\\n\";\n",
    "  return 0;\n",
    "}"
   ]
  },
  {
   "cell_type": "markdown",
   "metadata": {},
   "source": [
    "### Build and Run\n",
    "Select the following cell and click __Run__ ▶ to compile and execute the code above:"
   ]
  },
  {
   "cell_type": "code",
   "execution_count": 11,
   "metadata": {},
   "outputs": [
    {
     "name": "stdout",
     "output_type": "stream",
     "text": [
      "Job has been submitted to Intel(R) DevCloud and will execute soon.\n",
      "\n",
      " If you do not see result in 60 seconds, please restart the Jupyter kernel:\n",
      " Kernel -> 'Restart Kernel and Clear All Outputs...' and then try again\n",
      "\n",
      "Selected Device is: CPU Xeon 6128\n",
      "Job ID                    Name             User            Time Use S Queue\n",
      "------------------------- ---------------- --------------- -------- - -----\n",
      "927965.v-qsvr-1            ...ub-singleuser u51369          00:00:34 R jupyterhub     \n",
      "927999.v-qsvr-1            build.sh         u51369                 0 Q batch          \n",
      "\n",
      "Waiting for Output ████████████████████████████████████████████████████████████\n",
      "\n",
      "TimeOut 60 seconds: Job is still queued for execution, check for output file later (build.sh.o927999)\n",
      "\n",
      " Done⬇\n",
      "\n",
      "########################################################################\n",
      "#      Date:           Wed Jul 14 11:15:36 PDT 2021\n",
      "#    Job ID:           927999.v-qsvr-1.aidevcloud\n",
      "#      User:           u51369\n",
      "# Resources:           neednodes=1:skl:ppn=2,nodes=1:skl:ppn=2,walltime=06:00:00\n",
      "########################################################################\n",
      "\n",
      "-- Default CMAKE_BUILD_TYPE not set using Release with Debug Info\n",
      "-- The C compiler identification is GNU 7.5.0\n",
      "-- The CXX compiler identification is Clang 13.0.0\n",
      "-- Check for working C compiler: /usr/bin/cc\n",
      "-- Check for working C compiler: /usr/bin/cc -- works\n",
      "-- Detecting C compiler ABI info\n",
      "-- Detecting C compiler ABI info - done\n",
      "-- Detecting C compile features\n",
      "-- Detecting C compile features - done\n",
      "-- Check for working CXX compiler: /glob/development-tools/versions/oneapi/2021.3/inteloneapi/compiler/2021.3.0/linux/bin/dpcpp\n",
      "-- Check for working CXX compiler: /glob/development-tools/versions/oneapi/2021.3/inteloneapi/compiler/2021.3.0/linux/bin/dpcpp -- works\n",
      "-- Detecting CXX compiler ABI info\n",
      "-- Detecting CXX compiler ABI info - done\n",
      "-- Detecting CXX compile features\n",
      "-- Detecting CXX compile features - done\n",
      "-- Configuring done\n",
      "-- Generating done\n",
      "-- Build files have been written to: /home/u51369/mandelbrot/build\n",
      "Scanning dependencies of target mandelbrot\n",
      "[ 50%] Building CXX object CMakeFiles/mandelbrot.dir/src/main.cpp.o\n",
      "[100%] Linking CXX executable mandelbrot\n",
      "[100%] Built target mandelbrot\n",
      "Scanning dependencies of target run\n",
      "     Platform Name: Intel(R) OpenCL\n",
      "  Platform Version: OpenCL 2.1 LINUX\n",
      "       Device Name: Intel(R) Xeon(R) Gold 6128 CPU @ 3.40GHz\n",
      "    Max Work Group: 8192\n",
      " Max Compute Units: 24\n",
      "No output to console due to large size. Output saved to mandelbrot.png. \n",
      "       serial time: 0.217051s\n",
      "     parallel time: 0.00112893s\n",
      "Success\n",
      "Built target run\n",
      "\n",
      "########################################################################\n",
      "# End of output for job 927999.v-qsvr-1.aidevcloud\n",
      "# Date: Wed Jul 14 11:16:24 PDT 2021\n",
      "########################################################################\n",
      "\n",
      "Job Completed in 60 seconds.\n"
     ]
    }
   ],
   "source": [
    "! ./q build.sh \"{device.value}\""
   ]
  },
  {
   "cell_type": "markdown",
   "metadata": {},
   "source": [
    "#### Execute the below cell to view the mandelbrot."
   ]
  },
  {
   "cell_type": "code",
   "execution_count": 8,
   "metadata": {},
   "outputs": [
    {
     "data": {
      "application/vnd.jupyter.widget-view+json": {
       "model_id": "4fdee0ac65d945bf897534c229d83e2d",
       "version_major": 2,
       "version_minor": 0
      },
      "text/plain": [
       "Image(value=b'\\x89PNG\\r\\n\\x1a\\n\\x00\\x00\\x00\\rIHDR\\x00\\x00\\x04\\x00\\x00\\x00\\x04\\x00\\x08\\x02\\x00\\x00\\x00\\xf0\\x7f\\…"
      ]
     },
     "metadata": {},
     "output_type": "display_data"
    }
   ],
   "source": [
    "from ipywidgets import Image\n",
    "Image.from_file(\"build/mandelbrot.png\")"
   ]
  },
  {
   "cell_type": "markdown",
   "metadata": {},
   "source": [
    "- _Choose Another Device:_ [Device Selector](#Device-Selector)"
   ]
  },
  {
   "cell_type": "markdown",
   "metadata": {},
   "source": [
    "<html><body><span style=\"color:red\"><h2>Test Your Code on a Variety of In-market and Pre-release Development Systems</h1></span></body></html>\n",
    "\n",
    "1. [Get started with Intel DevCloud for oneAPI.](https://devcloud.intel.com/oneapi/get_started/)\n",
    "\n",
    "2. [See all nine self-paced training modules for Data Parallel C++ (DPC++) Essentials, OpenMP, and more.](https://devcloud.intel.com/oneapi/get_started/baseTrainingModules/)\n",
    "\n",
    "3. [Gain hands-on experience with 25 Jupyter Notebooks loaded with 100+ DPC++ code samples.](https://devcloud.intel.com/oneapi/get_started/baseToolkitSamples/)\n",
    "\n",
    "4.  [Want even more samples?  Execute the following cell and pull all the samples.](https://github.com/oneapi-src/oneAPI-samples.git)"
   ]
  },
  {
   "cell_type": "code",
   "execution_count": null,
   "metadata": {},
   "outputs": [],
   "source": [
    "!git clone https://github.com/oneapi-src/oneAPI-samples.git"
   ]
  },
  {
   "cell_type": "code",
   "execution_count": null,
   "metadata": {},
   "outputs": [],
   "source": []
  }
 ],
 "metadata": {
  "kernelspec": {
   "display_name": "Python 3 (Intel® oneAPI 2023.0)",
   "language": "python",
   "name": "c009-intel_distribution_of_python_3_oneapi-beta05-python"
  },
  "language_info": {
   "codemirror_mode": {
    "name": "ipython",
    "version": 3
   },
   "file_extension": ".py",
   "mimetype": "text/x-python",
   "name": "python",
   "nbconvert_exporter": "python",
   "pygments_lexer": "ipython3",
   "version": "3.9.15"
  },
  "toc": {
   "base_numbering": 1,
   "nav_menu": {},
   "number_sections": true,
   "sideBar": true,
   "skip_h1_title": false,
   "title_cell": "Table of Contents",
   "title_sidebar": "Contents",
   "toc_cell": false,
   "toc_position": {},
   "toc_section_display": true,
   "toc_window_display": false
  }
 },
 "nbformat": 4,
 "nbformat_minor": 4
}
